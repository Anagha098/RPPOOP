{
 "cells": [
  {
   "cell_type": "code",
   "execution_count": null,
   "id": "b92d203b",
   "metadata": {},
   "outputs": [
    {
     "name": "stdout",
     "output_type": "stream",
     "text": [
      "Enter 1 for area, 2 for perimeter, 3 for dimension change, 4 for report.\n",
      "3\n",
      "Enter new length\n",
      "\n",
      "7\n",
      "Enter new width\n",
      "\n",
      "8\n",
      "Enter 1 for area, 2 for perimeter, 3 for dimension change, 4 for report.\n",
      "4\n",
      "7\n",
      "8\n",
      "Enter 1 for area, 2 for perimeter, 3 for dimension change, 4 for report.\n",
      "1\n",
      "56\n",
      "Enter 1 for area, 2 for perimeter, 3 for dimension change, 4 for report.\n"
     ]
    }
   ],
   "source": [
    "class rectangle():\n",
    "    def __init__(self,l,w):\n",
    "        self.length=l\n",
    "        self.width=w\n",
    "    def area(self):\n",
    "        return self.length*self.width\n",
    "    def perimeter(self):\n",
    "        return 2*(self.length+self.width)\n",
    "    def changeDimension(self):\n",
    "        print(\"Enter new length\\n\")\n",
    "        L=int(input())\n",
    "        self.length = L\n",
    "        print(\"Enter new width\\n\")\n",
    "        B=int(input())\n",
    "        self.width = B\n",
    "    def getLength(self):\n",
    "        print(self.length)\n",
    "    def getWidth(self):\n",
    "        print(self.width)\n",
    "        \n",
    "rectangle_1=rectangle(5,2)\n",
    "\n",
    "\n",
    "\n",
    "\n",
    "while 1>0 :\n",
    "    print(\"Enter 1 for area, 2 for perimeter, 3 for dimension change, 4 for report.\")\n",
    "    choice=int(input())\n",
    "    if choice==1:\n",
    "        print(rectangle_1.area())\n",
    "    elif choice==2:\n",
    "        print(rectangle_1.perimeter())\n",
    "    elif choice==3:\n",
    "        rectangle_1.changeDimension()\n",
    "    else:\n",
    "        rectangle_1.getLength()\n",
    "        rectangle_1.getWidth()\n",
    "\n"
   ]
  },
  {
   "cell_type": "markdown",
   "id": "4ffd1aec",
   "metadata": {},
   "source": [
    "##### "
   ]
  },
  {
   "cell_type": "markdown",
   "id": "5116a502",
   "metadata": {},
   "source": [
    "###### "
   ]
  },
  {
   "cell_type": "code",
   "execution_count": null,
   "id": "2df7e4c6",
   "metadata": {},
   "outputs": [],
   "source": []
  },
  {
   "cell_type": "code",
   "execution_count": null,
   "id": "2fdee1be",
   "metadata": {},
   "outputs": [],
   "source": []
  },
  {
   "cell_type": "code",
   "execution_count": null,
   "id": "46683b3a",
   "metadata": {},
   "outputs": [],
   "source": []
  }
 ],
 "metadata": {
  "kernelspec": {
   "display_name": "Python 3 (ipykernel)",
   "language": "python",
   "name": "python3"
  },
  "language_info": {
   "codemirror_mode": {
    "name": "ipython",
    "version": 3
   },
   "file_extension": ".py",
   "mimetype": "text/x-python",
   "name": "python",
   "nbconvert_exporter": "python",
   "pygments_lexer": "ipython3",
   "version": "3.10.6"
  }
 },
 "nbformat": 4,
 "nbformat_minor": 5
}
