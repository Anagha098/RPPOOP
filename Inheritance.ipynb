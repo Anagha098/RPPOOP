{
 "cells": [
  {
   "cell_type": "code",
   "execution_count": 15,
   "id": "7ddd9db2",
   "metadata": {
    "scrolled": true
   },
   "outputs": [
    {
     "name": "stdout",
     "output_type": "stream",
     "text": [
      "Tom barks.\n"
     ]
    }
   ],
   "source": [
    "#Single Inheritance\n",
    "class Animal:\n",
    "    def __init__(self, name):\n",
    "        self.name = name\n",
    "    \n",
    "    def speak(self):\n",
    "        print(\"The animal makes a sound.\")\n",
    "\n",
    "class Dog(Animal):\n",
    "    def speak(self):\n",
    "        print(self.name,\"barks.\")\n",
    "    \n",
    "dog = Dog(\"Tom\")\n",
    "dog.speak()"
   ]
  },
  {
   "cell_type": "code",
   "execution_count": 17,
   "id": "2bfed85a",
   "metadata": {},
   "outputs": [
    {
     "name": "stdout",
     "output_type": "stream",
     "text": [
      "Sparrow is eating.\n",
      "Chirp chirp!\n",
      "Flying...\n"
     ]
    }
   ],
   "source": [
    "#Multiple Inheritance\n",
    "class Animal:\n",
    "    def __init__(self, name):\n",
    "        self.name = name\n",
    "\n",
    "    def eat(self):\n",
    "        print(self.name, \"is eating.\")\n",
    "\n",
    "class Flyable:\n",
    "    def fly(self):\n",
    "        print(\"Flying...\")\n",
    "\n",
    "class Bird(Animal, Flyable):\n",
    "    def chirp(self):\n",
    "        print(\"Chirp chirp!\")\n",
    "\n",
    "my_bird = Bird(\"Sparrow\")\n",
    "my_bird.eat()   \n",
    "my_bird.chirp() \n",
    "my_bird.fly()   "
   ]
  },
  {
   "cell_type": "code",
   "execution_count": 12,
   "id": "444ec26d",
   "metadata": {},
   "outputs": [
    {
     "name": "stdout",
     "output_type": "stream",
     "text": [
      "Tom is eating.\n",
      "Woof!\n",
      "Tom is fetching.\n"
     ]
    }
   ],
   "source": [
    "#Multilevel Inheritance\n",
    "class Animal:\n",
    "    def __init__(self, name):\n",
    "        self.name = name\n",
    "\n",
    "    def eat(self):\n",
    "        print(self.name, \"is eating.\")\n",
    "\n",
    "class Dog(Animal):\n",
    "    def bark(self):\n",
    "        print(\"Woof!\")\n",
    "\n",
    "class Labrador(Dog):\n",
    "    def fetch(self):\n",
    "        print(self.name,\"is fetching.\")\n",
    "\n",
    "my_labrador = Labrador(\"Tom\")\n",
    "my_labrador.eat()   \n",
    "my_labrador.bark()   \n",
    "my_labrador.fetch()  \n"
   ]
  },
  {
   "cell_type": "code",
   "execution_count": 5,
   "id": "112080f3",
   "metadata": {},
   "outputs": [
    {
     "name": "stdout",
     "output_type": "stream",
     "text": [
      "Drawing a circle.\n",
      "Drawing a rectangle.\n"
     ]
    }
   ],
   "source": [
    "#Hierarchical Inheritance\n",
    "class Shape:\n",
    "    def draw(self):\n",
    "        print(\"Drawing a shape.\")\n",
    "\n",
    "class Circle(Shape):\n",
    "    def draw(self):\n",
    "        print(\"Drawing a circle.\")\n",
    "\n",
    "class Rectangle(Shape):\n",
    "    def draw(self):\n",
    "        print(\"Drawing a rectangle.\")\n",
    "\n",
    "my_circle = Circle()\n",
    "my_circle.draw()  \n",
    "\n",
    "my_rectangle = Rectangle()\n",
    "my_rectangle.draw()  "
   ]
  },
  {
   "cell_type": "code",
   "execution_count": null,
   "id": "332bdea5",
   "metadata": {},
   "outputs": [],
   "source": []
  }
 ],
 "metadata": {
  "kernelspec": {
   "display_name": "Python 3 (ipykernel)",
   "language": "python",
   "name": "python3"
  },
  "language_info": {
   "codemirror_mode": {
    "name": "ipython",
    "version": 3
   },
   "file_extension": ".py",
   "mimetype": "text/x-python",
   "name": "python",
   "nbconvert_exporter": "python",
   "pygments_lexer": "ipython3",
   "version": "3.10.6"
  }
 },
 "nbformat": 4,
 "nbformat_minor": 5
}
