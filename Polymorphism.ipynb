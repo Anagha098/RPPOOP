{
 "cells": [
  {
   "cell_type": "code",
   "execution_count": 5,
   "id": "b8305754",
   "metadata": {},
   "outputs": [
    {
     "name": "stdout",
     "output_type": "stream",
     "text": [
      "Result 1: 9\n"
     ]
    }
   ],
   "source": [
    "#Compile-time Polymorphism\n",
    "class Calculator:\n",
    "    #def add(self, a=None, b=None):\n",
    "     #   return a + b\n",
    "    \n",
    "    def add(self, a=None, b=None, c=None):\n",
    "        return a + b + c\n",
    "\n",
    "calculator = Calculator()\n",
    "result1 = calculator.add(2, 3, 4)\n",
    "#result2 = calculator.add(1,2)\n",
    "\n",
    "print(\"Result 1:\", result1)\n",
    "#print(\"Result 2:\",result2)"
   ]
  },
  {
   "cell_type": "code",
   "execution_count": 2,
   "id": "bc6ce50a",
   "metadata": {},
   "outputs": [
    {
     "name": "stdout",
     "output_type": "stream",
     "text": [
      "Meow!\n",
      "Woof!\n"
     ]
    }
   ],
   "source": [
    "#Run-time Polymorphism\n",
    "class Animal:\n",
    "    def make_sound(self):\n",
    "        print(\"Animal is making a sound\")\n",
    "\n",
    "class Cat(Animal):\n",
    "    def make_sound(self):\n",
    "        print(\"Meow!\")\n",
    "\n",
    "class Dog(Animal):\n",
    "    def make_sound(self):\n",
    "        print(\"Woof!\")\n",
    "\n",
    "animal1 = Cat()\n",
    "animal2 = Dog()\n",
    "\n",
    "animal1.make_sound()  \n",
    "animal2.make_sound()"
   ]
  }
 ],
 "metadata": {
  "kernelspec": {
   "display_name": "Python 3 (ipykernel)",
   "language": "python",
   "name": "python3"
  },
  "language_info": {
   "codemirror_mode": {
    "name": "ipython",
    "version": 3
   },
   "file_extension": ".py",
   "mimetype": "text/x-python",
   "name": "python",
   "nbconvert_exporter": "python",
   "pygments_lexer": "ipython3",
   "version": "3.10.6"
  }
 },
 "nbformat": 4,
 "nbformat_minor": 5
}
